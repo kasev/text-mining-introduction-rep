{
 "cells": [
  {
   "cell_type": "markdown",
   "metadata": {
    "colab_type": "text",
    "id": "CSmVmCtoZwdA"
   },
   "source": [
    "Tento soubor obsahuje ucelený kód pro python 3 i s dokumentací, který nevyžaduje žádné zvláštní prerekvizity. Tento notebook je možné použít několika způsoby\n",
    "\n",
    "1) Za využití platformy Colaboratery (colab.research.google.com)\n",
    "\n",
    "2) Za využití Jupyter notebooku např. prostřednictvím instalace Anacondy (https://www.anaconda.com)\n",
    "\n",
    "3) Zkopírováním jednotlivých příkazů do konzole, ať už u vás na počítači, či online v prohlížeči https://www.python.org/shell/\n",
    "\n",
    "Text mimo okna kódu je součást souboru .ipynb = soubor python-notebooku, který zahrnuje jak kód tak tuto dokumentaci. Stejně tak jakýkoli text za křížekm není součástí kódu, ale dokumentace, neboť je tzv. \"zakomentován\"."
   ]
  },
  {
   "cell_type": "markdown",
   "metadata": {
    "colab_type": "text",
    "id": "DY7iU_lPZwdD"
   },
   "source": [
    "## Vytvoření proměnné typu STRING\n",
    "Nejprve si vytvoříme proměnnou v podobě textového řetězce.\n",
    "Zvolíme si pro ni pokud možno co nejlepší název.\n",
    "Chceme, aby šlo o proměnnou typu \"string\", a nikoli třeba \"int\" (= integer/celé číslo), což dáme najevo tím, že použijeme uvozovky"
   ]
  },
  {
   "cell_type": "code",
   "execution_count": 0,
   "metadata": {
    "colab": {
     "autoexec": {
      "startup": false,
      "wait_interval": 0
     }
    },
    "colab_type": "code",
    "id": "1NPbY30VZwdG"
   },
   "outputs": [],
   "source": [
    "string_variable = \"Tento text je nyní obsahem proměnné. Může být libovolně dlouhý, obsahovat mnoho vět, slovo za slovem, dokud jej neukončí uvozovky. V naší ukázce, budeme počítat termín slovo. Kolikrát se zde termín slovo objevuje?\""
   ]
  },
  {
   "cell_type": "markdown",
   "metadata": {
    "colab_type": "text",
    "id": "mI5H2nvaZwdP"
   },
   "source": [
    "## Proměnná typu LIST/seznam \n",
    "\n",
    "---\n",
    "\n",
    "\n",
    "Chceme-li načíst více dokumentů současně, je ideální, pokud se nám podaří dostat je např. do proměnné ve formátu \"list\"\n",
    "Prvky listu jsou zde opět textové řetězce, kterých se nyní můžeme individuálně dotazovat"
   ]
  },
  {
   "cell_type": "code",
   "execution_count": 0,
   "metadata": {
    "colab": {
     "autoexec": {
      "startup": false,
      "wait_interval": 0
     }
    },
    "colab_type": "code",
    "id": "_10_cCZmZwdR"
   },
   "outputs": [],
   "source": [
    "list_of_strings = [\"Já jsem první prvek listu. Další prvek přijde až po ukončení uvozovek a čárce.\", \"Já jsem druhý prvek listu.\", \"Já jsem poslední prvek listu. My všichni dohromady jsme ohraničeni hranatými závorkami. Ty naznačují, že jsme list.\"]"
   ]
  },
  {
   "cell_type": "markdown",
   "metadata": {
    "colab_type": "text",
    "id": "NJmjLfeMZwdW"
   },
   "source": [
    "## print()\n",
    "\n",
    "Vždy, když chceme vyzkoušet, zda nám vše funguje správně, daný prvek si vytiskneme pomocí funkce \"print()\".\n",
    "\n",
    "Nejprve si vytiskneme obsah naší proměnné \"string_variable\"."
   ]
  },
  {
   "cell_type": "code",
   "execution_count": 0,
   "metadata": {
    "colab": {
     "autoexec": {
      "startup": false,
      "wait_interval": 0
     },
     "output_extras": [
      {}
     ]
    },
    "colab_type": "code",
    "id": "xNHjT2NcZwdX",
    "outputId": "ff302104-96e6-471e-8a50-18f4c72dfba6"
   },
   "outputs": [
    {
     "name": "stdout",
     "output_type": "stream",
     "text": [
      "Tento text je nyní obsahem proměnné. Může být libovolně dlouhý, obsahovat mnoho vět, slovo za slovem, dokud jej neukončí uvozovky. V naší ukázce, budeme počítat termín slovo. Kolikrát se zde termín slovo objevuje?\n"
     ]
    }
   ],
   "source": [
    "print(string_variable)"
   ]
  },
  {
   "cell_type": "markdown",
   "metadata": {
    "colab_type": "text",
    "id": "Sg7d2QcnZwdh"
   },
   "source": [
    "Dále si vytiskneme náš list"
   ]
  },
  {
   "cell_type": "code",
   "execution_count": 0,
   "metadata": {
    "colab": {
     "autoexec": {
      "startup": false,
      "wait_interval": 0
     },
     "output_extras": [
      {}
     ]
    },
    "colab_type": "code",
    "id": "e-PwdYdAZwdh",
    "outputId": "f348023a-229e-4c52-f3e8-d4f65a309c74"
   },
   "outputs": [
    {
     "name": "stdout",
     "output_type": "stream",
     "text": [
      "['Já jsem první prvek listu. Další prvek přijde až po ukončení uvozovek a čárce.', 'Já jsem druhý prvek listu.', 'My všichni dohromady jsme ohraničeni hranatými závorkami. Ty naznačují, že jsme list.']\n"
     ]
    }
   ],
   "source": [
    "print(list_of_strings)"
   ]
  },
  {
   "cell_type": "markdown",
   "metadata": {
    "colab_type": "text",
    "id": "GcwwRqfgZwdm"
   },
   "source": [
    "## indexování"
   ]
  },
  {
   "cell_type": "markdown",
   "metadata": {
    "colab_type": "text",
    "id": "ucwQANBiZwdn"
   },
   "source": [
    "V případě \"listů\" nás často zajímají jenom některé prvky. K prvkům se dostaneme prostřednictvím indexů.\n",
    "Každému prvku v listu je automaticky přiřazeno číslo počínaje \"0\"\n",
    "\n",
    "Konkrétní prvek listu si vytiskneme zavoláním jeho indexu, což např. v případě prvního prvku vypadá takto:"
   ]
  },
  {
   "cell_type": "code",
   "execution_count": 0,
   "metadata": {
    "colab": {
     "autoexec": {
      "startup": false,
      "wait_interval": 0
     },
     "output_extras": [
      {}
     ]
    },
    "colab_type": "code",
    "id": "xoDriNPrZwdp",
    "outputId": "d3320ef3-1023-4c05-9d2c-c1848f11b698"
   },
   "outputs": [
    {
     "name": "stdout",
     "output_type": "stream",
     "text": [
      "Já jsem první prvek listu. Další prvek přijde až po ukončení uvozovek a čárce.\n"
     ]
    }
   ],
   "source": [
    "print(list_of_strings[0])"
   ]
  },
  {
   "cell_type": "markdown",
   "metadata": {
    "colab_type": "text",
    "id": "k8n12hqLZwdt"
   },
   "source": [
    "Ke druhému až poslednímu listu se naopak dostaneme takto:"
   ]
  },
  {
   "cell_type": "code",
   "execution_count": 0,
   "metadata": {
    "colab": {
     "autoexec": {
      "startup": false,
      "wait_interval": 0
     },
     "output_extras": [
      {}
     ]
    },
    "colab_type": "code",
    "id": "CmyhkDE6Zwdu",
    "outputId": "6a86f1ef-c5f9-4244-f39b-aa57670a31ef"
   },
   "outputs": [
    {
     "name": "stdout",
     "output_type": "stream",
     "text": [
      "['Já jsem druhý prvek listu.', 'My všichni dohromady jsme ohraničeni hranatými závorkami. Ty naznačují, že jsme list.']\n"
     ]
    }
   ],
   "source": [
    "print(list_of_strings[1:])"
   ]
  },
  {
   "cell_type": "markdown",
   "metadata": {
    "colab_type": "text",
    "id": "0WzTxH_MZwdy"
   },
   "source": [
    "## len()\n",
    "\n",
    "Často nás zajímá, kolik má string znaků. K tomu slouží funkce \"len()\""
   ]
  },
  {
   "cell_type": "code",
   "execution_count": 0,
   "metadata": {
    "colab": {
     "autoexec": {
      "startup": false,
      "wait_interval": 0
     },
     "output_extras": [
      {}
     ]
    },
    "colab_type": "code",
    "id": "K6Qr5gbxZwdz",
    "outputId": "18c0576c-dcc1-4bff-b96f-441eb069e979"
   },
   "outputs": [
    {
     "data": {
      "text/plain": [
       "33"
      ]
     },
     "execution_count": 33,
     "metadata": {
      "tags": []
     },
     "output_type": "execute_result"
    }
   ],
   "source": [
    "len(string_variable)"
   ]
  },
  {
   "cell_type": "markdown",
   "metadata": {
    "colab_type": "text",
    "id": "uPHr7c5SZwd3"
   },
   "source": [
    "## Cyklus FOR\n",
    "\n",
    "Pomocí cyklu FOR se můžeme např. dotázat, kolik znaků mají jednotlivé prvky našeho listu, a nechat si tyto hodnoty jednu po druhé nechat vytisknout."
   ]
  },
  {
   "cell_type": "code",
   "execution_count": 0,
   "metadata": {
    "colab": {
     "autoexec": {
      "startup": false,
      "wait_interval": 0
     },
     "output_extras": [
      {}
     ]
    },
    "colab_type": "code",
    "id": "Xe7p6z_cZwd4",
    "outputId": "2bfeac0e-8b94-4a34-8304-2c5613d0dad8"
   },
   "outputs": [
    {
     "name": "stdout",
     "output_type": "stream",
     "text": [
      "78\n",
      "26\n",
      "85\n"
     ]
    }
   ],
   "source": [
    "for element in list_of_strings:\n",
    "    print(len(element))"
   ]
  },
  {
   "cell_type": "markdown",
   "metadata": {
    "colab_type": "text",
    "id": "ziyQZ8fdZwd8"
   },
   "source": [
    "## Normalizace řetězce\n",
    "\n",
    "Nyní na naší proměnné provedeme sérii úprav.\n",
    "Za lomítkem vpravo na naši původní proměnnou aplikujeme určitou funkci.\n",
    "Před lomítkem výsledek aplikace této funkce ořiřazujeme proměnné, pro kterou v tomto případě používáme stejné jméno.\n",
    "\n",
    "### lower()\n",
    "\n",
    "Funkcí \"lower()\" nejpreve převedeme všechna slova na malá písmena "
   ]
  },
  {
   "cell_type": "code",
   "execution_count": 0,
   "metadata": {
    "colab": {
     "autoexec": {
      "startup": false,
      "wait_interval": 0
     }
    },
    "colab_type": "code",
    "id": "Nbr6LZagZwd8"
   },
   "outputs": [],
   "source": [
    "string_variable = string_variable.lower()"
   ]
  },
  {
   "cell_type": "markdown",
   "metadata": {
    "colab_type": "text",
    "id": "qE_lXEzDZweA"
   },
   "source": [
    "### Zbavení se interpunkce\n",
    "Existuje mnoho způsobů. My zvolíme funcki vestavenou v modulu \"string\", který si musíme nejprve importovat"
   ]
  },
  {
   "cell_type": "code",
   "execution_count": 0,
   "metadata": {
    "colab": {
     "autoexec": {
      "startup": false,
      "wait_interval": 0
     },
     "output_extras": [
      {}
     ]
    },
    "colab_type": "code",
    "id": "tOWQfBU_ZweB",
    "outputId": "47d05abd-b9e1-4f70-effb-df54033ff848"
   },
   "outputs": [
    {
     "ename": "AttributeError",
     "evalue": "'list' object has no attribute 'replace'",
     "output_type": "error",
     "traceback": [
      "\u001b[0;31m---------------------------------------------------------------------------\u001b[0m",
      "\u001b[0;31mAttributeError\u001b[0m                            Traceback (most recent call last)",
      "\u001b[0;32m<ipython-input-34-f6e5aa5fe1d2>\u001b[0m in \u001b[0;36m<module>\u001b[0;34m()\u001b[0m\n\u001b[1;32m      2\u001b[0m \u001b[0;34m\u001b[0m\u001b[0m\n\u001b[1;32m      3\u001b[0m \u001b[0;32mfor\u001b[0m \u001b[0mc\u001b[0m \u001b[0;32min\u001b[0m \u001b[0mstring\u001b[0m\u001b[0;34m.\u001b[0m\u001b[0mpunctuation\u001b[0m\u001b[0;34m:\u001b[0m\u001b[0;34m\u001b[0m\u001b[0m\n\u001b[0;32m----> 4\u001b[0;31m     \u001b[0mstring_variable\u001b[0m \u001b[0;34m=\u001b[0m \u001b[0mstring_variable\u001b[0m\u001b[0;34m.\u001b[0m\u001b[0mreplace\u001b[0m\u001b[0;34m(\u001b[0m\u001b[0mc\u001b[0m\u001b[0;34m,\u001b[0m\u001b[0;34m\"\"\u001b[0m\u001b[0;34m)\u001b[0m\u001b[0;34m\u001b[0m\u001b[0m\n\u001b[0m\u001b[1;32m      5\u001b[0m \u001b[0;34m\u001b[0m\u001b[0m\n\u001b[1;32m      6\u001b[0m \u001b[0mprint\u001b[0m\u001b[0;34m(\u001b[0m\u001b[0mstring_variable\u001b[0m\u001b[0;34m)\u001b[0m\u001b[0;34m\u001b[0m\u001b[0m\n",
      "\u001b[0;31mAttributeError\u001b[0m: 'list' object has no attribute 'replace'"
     ]
    }
   ],
   "source": [
    "import string\n",
    "\n",
    "for c in string.punctuation:\n",
    "    string_variable = string_variable.replace(c,\"\")\n",
    "\n",
    "print(string_variable)"
   ]
  },
  {
   "cell_type": "markdown",
   "metadata": {
    "colab_type": "text",
    "id": "s_YknxofZweE"
   },
   "source": [
    "### Tokenizace\n",
    "\n",
    "Pro práci s textem se často hodí rozdělit řetězec slov na jednotlivá slova. Této operaci se říká \"tokenizace\".\n",
    "Zde tak učiníme prostřednictvím jednoduché funkce \"split()\""
   ]
  },
  {
   "cell_type": "code",
   "execution_count": 0,
   "metadata": {
    "colab": {
     "autoexec": {
      "startup": false,
      "wait_interval": 0
     },
     "output_extras": [
      {}
     ]
    },
    "colab_type": "code",
    "id": "RwVdRawpZweF",
    "outputId": "fc28d5dd-7091-4ac3-fee0-4432e216bcd0"
   },
   "outputs": [
    {
     "data": {
      "text/plain": [
       "['tento',\n",
       " 'text',\n",
       " 'je',\n",
       " 'nyní',\n",
       " 'obsahem',\n",
       " 'proměnné',\n",
       " 'může',\n",
       " 'být',\n",
       " 'libovolně',\n",
       " 'dlouhý',\n",
       " 'obsahovat',\n",
       " 'mnoho',\n",
       " 'vět',\n",
       " 'slovo',\n",
       " 'za',\n",
       " 'slovem',\n",
       " 'dokud',\n",
       " 'jej',\n",
       " 'neukončí',\n",
       " 'uvozovky',\n",
       " 'v',\n",
       " 'naší',\n",
       " 'ukázce',\n",
       " 'budeme',\n",
       " 'počítat',\n",
       " 'termín',\n",
       " 'slovo',\n",
       " 'kolikrát',\n",
       " 'se',\n",
       " 'zde',\n",
       " 'termín',\n",
       " 'slovo',\n",
       " 'objevuje']"
      ]
     },
     "execution_count": 23,
     "metadata": {
      "tags": []
     },
     "output_type": "execute_result"
    }
   ],
   "source": [
    "string_variable = string_variable.split()\n",
    "string_variable"
   ]
  },
  {
   "cell_type": "markdown",
   "metadata": {
    "colab": {
     "autoexec": {
      "startup": false,
      "wait_interval": 0
     },
     "output_extras": [
      {}
     ]
    },
    "colab_type": "code",
    "id": "bAIYnMAPZweJ",
    "outputId": "f84be351-b1da-4bf8-88cf-65f7b98c1bd8"
   },
   "source": [
    "v textu rozděleném na jednotlivá slova už funkce \"len()\" nepočítá znaky ale slova"
   ]
  },
  {
   "cell_type": "code",
   "execution_count": 0,
   "metadata": {
    "colab": {
     "autoexec": {
      "startup": false,
      "wait_interval": 0
     },
     "output_extras": [
      {}
     ]
    },
    "colab_type": "code",
    "id": "bAIYnMAPZweJ",
    "outputId": "f84be351-b1da-4bf8-88cf-65f7b98c1bd8"
   },
   "outputs": [
    {
     "data": {
      "text/plain": [
       "33"
      ]
     },
     "execution_count": 24,
     "metadata": {
      "tags": []
     },
     "output_type": "execute_result"
    }
   ],
   "source": [
    "len(string_variable)"
   ]
  },
  {
   "cell_type": "markdown",
   "metadata": {
    "colab": {
     "autoexec": {
      "startup": false,
      "wait_interval": 0
     },
     "output_extras": [
      {}
     ]
    },
    "colab_type": "code",
    "id": "Y06R7mcTZweN",
    "outputId": "27566801-0966-40e5-eaac-da7d6ac5bd4e"
   },
   "source": [
    "## Frekvence (triviálně)\n",
    "Když máme řetězec tokenizovaný, můžeme se např. podívat, jak často se v něm vyskytuje určité slovo.\n",
    "V základní výbavě pythonu můžeme použít funkci \"count()\"."
   ]
  },
  {
   "cell_type": "code",
   "execution_count": 0,
   "metadata": {
    "colab": {
     "autoexec": {
      "startup": false,
      "wait_interval": 0
     },
     "output_extras": [
      {}
     ]
    },
    "colab_type": "code",
    "id": "Y06R7mcTZweN",
    "outputId": "27566801-0966-40e5-eaac-da7d6ac5bd4e"
   },
   "outputs": [
    {
     "data": {
      "text/plain": [
       "3"
      ]
     },
     "execution_count": 25,
     "metadata": {
      "tags": []
     },
     "output_type": "execute_result"
    }
   ],
   "source": [
    "string_variable.count(\"slovo\")"
   ]
  },
  {
   "cell_type": "markdown",
   "metadata": {
    "colab": {
     "autoexec": {
      "startup": false,
      "wait_interval": 0
     },
     "output_extras": [
      {}
     ]
    },
    "colab_type": "code",
    "id": "_8UoX6NuZweQ",
    "outputId": "89ad5cf6-a843-49b7-c553-5803211a93aa"
   },
   "source": [
    "Zajímavé může být se podívat, tuto frekvenci tzv. \"normalizovat\", tj. vydělit frekvenci počtem všech slov v řetězci"
   ]
  },
  {
   "cell_type": "code",
   "execution_count": 0,
   "metadata": {
    "colab": {
     "autoexec": {
      "startup": false,
      "wait_interval": 0
     },
     "output_extras": [
      {}
     ]
    },
    "colab_type": "code",
    "id": "_8UoX6NuZweQ",
    "outputId": "89ad5cf6-a843-49b7-c553-5803211a93aa"
   },
   "outputs": [
    {
     "data": {
      "text/plain": [
       "0.09090909090909091"
      ]
     },
     "execution_count": 26,
     "metadata": {
      "tags": []
     },
     "output_type": "execute_result"
    }
   ],
   "source": [
    "string_variable.count(\"slovo\") / len(string_variable)"
   ]
  },
  {
   "cell_type": "markdown",
   "metadata": {
    "colab": {
     "autoexec": {
      "startup": false,
      "wait_interval": 0
     },
     "output_extras": [
      {}
     ]
    },
    "colab_type": "code",
    "id": "Lb_EGJ2hZweU",
    "outputId": "98bfbfdb-f9c6-4fb0-e992-e1e1eeef112f"
   },
   "source": [
    "## Normalizace listu\n",
    "\n",
    "Toto může být zvláště zajímavé, uplatníme-li to na vícerodokumentů v našem listě.\n",
    "List však také nejprve musíme trochu zpracovat.\n",
    "\n",
    "Nejprve si vytvoříme nový prázdný list, který budeme postupně plnit již upravenými prvky z našeho listu"
   ]
  },
  {
   "cell_type": "code",
   "execution_count": null,
   "metadata": {
    "colab": {
     "autoexec": {
      "startup": false,
      "wait_interval": 0
     },
     "output_extras": [
      {}
     ]
    },
    "colab_type": "code",
    "id": "Lb_EGJ2hZweU",
    "outputId": "98bfbfdb-f9c6-4fb0-e992-e1e1eeef112f"
   },
   "outputs": [],
   "source": [
    "list_of_strings_new = []"
   ]
  },
  {
   "cell_type": "markdown",
   "metadata": {
    "colab": {
     "autoexec": {
      "startup": false,
      "wait_interval": 0
     },
     "output_extras": [
      {}
     ]
    },
    "colab_type": "code",
    "id": "Lb_EGJ2hZweU",
    "outputId": "98bfbfdb-f9c6-4fb0-e992-e1e1eeef112f"
   },
   "source": [
    "Projdeme se jeden po druhém všechny elementy našeho původního listu a provedeme na nich stejné operace, jaké jsme učinili výše."
   ]
  },
  {
   "cell_type": "code",
   "execution_count": 0,
   "metadata": {
    "colab": {
     "autoexec": {
      "startup": false,
      "wait_interval": 0
     },
     "output_extras": [
      {}
     ]
    },
    "colab_type": "code",
    "id": "Lb_EGJ2hZweU",
    "outputId": "98bfbfdb-f9c6-4fb0-e992-e1e1eeef112f"
   },
   "outputs": [
    {
     "data": {
      "text/plain": [
       "[['já',\n",
       "  'jsem',\n",
       "  'první',\n",
       "  'prvek',\n",
       "  'listu',\n",
       "  'další',\n",
       "  'prvek',\n",
       "  'přijde',\n",
       "  'až',\n",
       "  'po',\n",
       "  'ukončení',\n",
       "  'uvozovek',\n",
       "  'a',\n",
       "  'čárce'],\n",
       " ['já', 'jsem', 'druhý', 'prvek', 'listu'],\n",
       " ['my',\n",
       "  'všichni',\n",
       "  'dohromady',\n",
       "  'jsme',\n",
       "  'ohraničeni',\n",
       "  'hranatými',\n",
       "  'závorkami',\n",
       "  'ty',\n",
       "  'naznačují',\n",
       "  'že',\n",
       "  'jsme',\n",
       "  'list']]"
      ]
     },
     "execution_count": 27,
     "metadata": {
      "tags": []
     },
     "output_type": "execute_result"
    }
   ],
   "source": [
    "for element in list_of_strings: ### zavedeme si pracovní proměnnou \"element\", která bude v každém kolečku naplněna jedním prvkem z našeho původního listu\n",
    "    element = element.lower()\n",
    "    for c in string.punctuation:\n",
    "        element = element.replace(c,\"\")\n",
    "    element = element.split()\n",
    "    list_of_strings_new.append(element) ### transformovaný prvek vložíme do našeho nového listu\n",
    "\n",
    "### na náš nový list se podíváme\n",
    "print(list_of_strings_new)"
   ]
  },
  {
   "cell_type": "markdown",
   "metadata": {
    "colab_type": "text",
    "id": "VMG1u8c4ZweY"
   },
   "source": [
    "Nakonec se můžeme podívat na normalizovanou frekvenční distribuci např. slova prvek ve všech třech prvcích listu "
   ]
  },
  {
   "cell_type": "code",
   "execution_count": 0,
   "metadata": {
    "colab": {
     "autoexec": {
      "startup": false,
      "wait_interval": 0
     },
     "output_extras": [
      {}
     ]
    },
    "colab_type": "code",
    "id": "bELXjCvwZweY",
    "outputId": "513d5e22-e999-468e-b8a8-df2c00282f1c"
   },
   "outputs": [
    {
     "name": "stdout",
     "output_type": "stream",
     "text": [
      "0.14285714285714285\n",
      "0.2\n",
      "0.0\n"
     ]
    }
   ],
   "source": [
    "for element in list_of_strings_new:\n",
    "    print(element.count(\"prvek\") / len(element))"
   ]
  },
  {
   "cell_type": "code",
   "execution_count": 0,
   "metadata": {
    "colab": {
     "autoexec": {
      "startup": false,
      "wait_interval": 0
     }
    },
    "colab_type": "code",
    "id": "fVl6x-GcZwec"
   },
   "outputs": [],
   "source": []
  }
 ],
 "metadata": {
  "colab": {
   "collapsed_sections": [],
   "default_view": {},
   "name": "DHmed_textova-data.ipynb",
   "provenance": [],
   "version": "0.3.2",
   "views": {}
  },
  "kernelspec": {
   "display_name": "Python 3",
   "language": "python",
   "name": "python3"
  },
  "language_info": {
   "codemirror_mode": {
    "name": "ipython",
    "version": 3
   },
   "file_extension": ".py",
   "mimetype": "text/x-python",
   "name": "python",
   "nbconvert_exporter": "python",
   "pygments_lexer": "ipython3",
   "version": "3.6.4"
  }
 },
 "nbformat": 4,
 "nbformat_minor": 1
}
